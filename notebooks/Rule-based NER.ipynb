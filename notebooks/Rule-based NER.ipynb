{
 "cells": [
  {
   "cell_type": "markdown",
   "metadata": {},
   "source": [
    "# Testing a rule-based system\n",
    "\n",
    "**Context** This notebook is meant to drive you through the usage of Corleone and Express, two softwares developed at the Joint Research Center (Europen Commission, Ispra, Italy) by Jakub Piskorski. These softwares are in use in production applications, notably the Europe Media Monitor. They are free for academic usage but you should ask a license if you want to use them beyond this tutorial.\n",
    "\n",
    "**Tools**\n",
    "\n",
    "- Corleone (Core Linguistic Entity Online Extraction) is a set of lightweight linguistic processing components (text scanner, tokenizer, sentence splitter, morphological analysis and gazetteer lookup).\n",
    "- Express (Extraction Pattern Recognition Engine and Specification Suite) is an information extraction grammar engine, which consists of a grammar parser and a grammar interpreter.\n",
    "\n",
    "**Objectives**\n",
    "\n",
    "We will not manage to do build a full information extraction pipeline within the allocated time (we would need at leat a week!). Here the objective is to **give you an idea** of how things work. We will therefore focus on 2 components: Gazetteers and Grammar, trying to build a small engine to recognize (some) person names.\n",
    "\n",
    "We will rely on an already compiled tokeniser. You will develop a gazetteer, and 2 or 3 rules using relying on it. Let's get started."
   ]
  },
  {
   "cell_type": "markdown",
   "metadata": {},
   "source": [
    "# Setup"
   ]
  },
  {
   "cell_type": "markdown",
   "metadata": {},
   "source": [
    "## Folder structure\n",
    "\n",
    "In both corleone and express repositories, you will find the following structures:\n",
    "\n",
    "```bash \n",
    ".\n",
    "├── compiled-resources # this is where your compiled resources will go\n",
    "├── documentation # user-guide is available here\n",
    "├── experiments # a playground folder, already with some inputs\n",
    "│   ├── input\n",
    "│   └── output\n",
    "├── resources # the 'row' resources, i.e. gazetteers and grammar file before they get compiled\n",
    "└── scripts # the scripts to use to compile or apply the components\n",
    "```"
   ]
  },
  {
   "cell_type": "markdown",
   "metadata": {},
   "source": [
    "## Download the JARs"
   ]
  },
  {
   "cell_type": "code",
   "execution_count": 1,
   "metadata": {},
   "outputs": [],
   "source": [
    "# the URL to insert in this variable will be communicated\n",
    "# during the workshop as the tool license does not allow us to\n",
    "# further distribute it (i.e. putting it on GitHub)\n",
    "download_link = \"\""
   ]
  },
  {
   "cell_type": "code",
   "execution_count": null,
   "metadata": {},
   "outputs": [],
   "source": [
    "!wget {download_link} -O ../libraries.zip"
   ]
  },
  {
   "cell_type": "code",
   "execution_count": null,
   "metadata": {},
   "outputs": [],
   "source": [
    "!unzip ../libraries.zip -d ../"
   ]
  },
  {
   "cell_type": "code",
   "execution_count": 18,
   "metadata": {},
   "outputs": [],
   "source": [
    "!cp ../librairies/*.jar ../rule-based/lib/"
   ]
  },
  {
   "cell_type": "code",
   "execution_count": null,
   "metadata": {},
   "outputs": [],
   "source": [
    "ls -al ../rule-based/lib/"
   ]
  },
  {
   "cell_type": "code",
   "execution_count": null,
   "metadata": {},
   "outputs": [],
   "source": [
    "# clean up\n",
    "rm -r ../librairies/\n",
    "rm libraries.zip"
   ]
  },
  {
   "cell_type": "markdown",
   "metadata": {},
   "source": [
    "# CorLEONE: creating, compiling and applying a gazetteer"
   ]
  },
  {
   "cell_type": "markdown",
   "metadata": {},
   "source": [
    "As a first exercise, we will create a small gazetteer for person names.\n",
    "\n",
    "> The CorLEONE gazetteer look-up (dictionary look-up) component matches an input stream of characters or tokens against a gazetteer (dictionary) list, and produces an adequate annotation for the matched text fragment. It allows for associating each entry in the gazetteer with a list of arbitrary flat attribute-value pairs*. (Corleone documentation, Piskorski, 2018.)"
   ]
  },
  {
   "cell_type": "markdown",
   "metadata": {},
   "source": [
    "## Creating a person name gazetteer\n",
    "\n",
    "The resources you need to manipulate are under the repository `resources`:\n",
    "\n",
    "- The **raw gazetteer file**, e.g. `person_name_gazetteer.txt`, is the entry file you need to edit with gazetteers elements. Each line represents a single gazetteer entry in the following format: `keyword (attribute:value)+`. \n",
    "\n",
    "```bash\n",
    "# Example of gazetteer, one entry per line, where the input separator is \"|\",\n",
    "# and the attribute/value separator is \":\"\n",
    "New York | GTYPE:location | SUBTYPE:city | CONTINENT: north america\n",
    "G. Bush  | GTYPE: person | SUBTYPE: politician | position: president \n",
    "# => here we are declaring that the string \"New York\" has the GTYPE 'location', the SUBTYPE 'city', etc.\n",
    "\n",
    "# for ambiguous forms, one line per referent:\n",
    "Washington | GTYPE:city | LOCATION:USA | SUBTYPE:cap_city \n",
    "Washington | GTYPE:person | GENDER:m_f \n",
    "Washington | GTYPE:organization | SUBTYPE:commercial \n",
    "Washington | GTYPE:region | LOCATION:US\n",
    "```\n",
    "\n",
    "- The **attribute file** lists all attribute names, where each line stands for a single attribute name. \n",
    "\n",
    "  ```bash\n",
    "  # for our gazetteer above, we need to declare the following types:\n",
    "  GTYPE\n",
    "  SUBTYPE\n",
    "  CONTINENT\n",
    "  LOCATION\n",
    "  GENDER\n",
    "  # => this are the types with which we want to describe our gazetteer entries\n",
    "  ```\n",
    "  \n",
    "- The **type file** (optional) can be used in order to facilitate more strict encoding of the gazetteer entries in order to specify: (a) an attribute that is used to encode the type of the entry, which has to be provided in all entries in the entry file, and (b) a list of appropriate attributes for each type.\n",
    "\n",
    "  ```bash\n",
    "  # for our example above, the type file would contain:\n",
    "  GTYPE # means that all entries need this type, and they can have 'city', 'person' or 'region' as values\n",
    "  city location subtype # means that if an entry is of GTYPE person, it can have the 'location' and 'subtype' attributes\n",
    "  person gender subtype position \n",
    "  region location\n",
    "  \n",
    "  # this is more specific than the type file, this is to declare the possible values for each type.\n",
    "  # this is not mandatory, we can skip it for our exercise.\n",
    "  ```"
   ]
  },
  {
   "cell_type": "markdown",
   "metadata": {},
   "source": [
    "## Compiling a person name gazetteer \n",
    "\n",
    "A very small person name gazetteer already exists. Let's try to use it.\n",
    "\n",
    "`<digression type'short'>`\n",
    "\n",
    "**What's going on?** In the cells below we are using a special syntax to run **bash** commands (e.g. `cd`, `ls -la`, etc.) **from within** the notebook.\n",
    "\n",
    "By using the `!` prefix at the beginning of a line we tell Jupyter than the line content should be interpreted and executed as a bash command (rather than a Python statement).\n",
    "\n",
    "`</digression>`"
   ]
  },
  {
   "cell_type": "code",
   "execution_count": 19,
   "metadata": {},
   "outputs": [
    {
     "name": "stdout",
     "output_type": "stream",
     "text": [
      "/bin/sh: line 0: cd: /rule-based/corleone/resources: No such file or directory\r\n"
     ]
    }
   ],
   "source": [
    "# go in the resource folder and look at the person_name_gazetteer.txt file\n",
    "\n",
    "! cd /rule-based/corleone/resources"
   ]
  },
  {
   "cell_type": "markdown",
   "metadata": {},
   "source": [
    "Look at the configuration files if you wish: they are already ready, you do not need to edit them"
   ]
  },
  {
   "cell_type": "code",
   "execution_count": 21,
   "metadata": {},
   "outputs": [
    {
     "name": "stdout",
     "output_type": "stream",
     "text": [
      "/bin/sh: line 0: cd: /rule-based/corleone/scripts: No such file or directory\r\n"
     ]
    }
   ],
   "source": [
    "# go in the /scripts folder of corleone\n",
    "\n",
    "! cd /rule-based/corleone/scripts"
   ]
  },
  {
   "cell_type": "code",
   "execution_count": 16,
   "metadata": {},
   "outputs": [
    {
     "name": "stdout",
     "output_type": "stream",
     "text": [
      "/bin/sh: ./compileComp.sh: No such file or directory\r\n"
     ]
    }
   ],
   "source": [
    "# execute the 'compile component script' with the component alias (basicGazetteer)\n",
    "# and the component configuration file (located in the resource folder)\n",
    "\n",
    "component_alias = \"basicGazetteer\"\n",
    "component_config_file = \"../resources/person_nameGazetteer.cfg\"\n",
    "\n",
    "! ./compileComp.sh {component_alias} {component_config_file}"
   ]
  },
  {
   "cell_type": "code",
   "execution_count": 22,
   "metadata": {},
   "outputs": [
    {
     "name": "stdout",
     "output_type": "stream",
     "text": [
      "/bin/sh: line 0: cd: /rule-base/corleone/compiled-resources: No such file or directory\n",
      "total 0\n",
      "drwxr-xr-x  7 matteo  staff  224 Jul  1 23:40 \u001b[34m.\u001b[m\u001b[m\n",
      "drwxr-xr-x  5 matteo  staff  160 Jul  1 23:40 \u001b[34m..\u001b[m\u001b[m\n",
      "drwxr-xr-x  5 matteo  staff  160 Jul  1 16:38 \u001b[34mcompiled-resources\u001b[m\u001b[m\n",
      "drwxr-xr-x  3 matteo  staff   96 Jul  1 23:40 \u001b[34mdocumentation\u001b[m\u001b[m\n",
      "drwxr-xr-x  9 matteo  staff  288 Jul  1 23:40 \u001b[34mexperiments\u001b[m\u001b[m\n",
      "drwxr-xr-x  7 matteo  staff  224 Jul  1 17:35 \u001b[34mresources\u001b[m\u001b[m\n",
      "drwxr-xr-x  6 matteo  staff  192 Jul  1 17:35 \u001b[34mscripts\u001b[m\u001b[m\n"
     ]
    }
   ],
   "source": [
    "# go in the compiled resources and check if your compiled component is there\n",
    "\n",
    "! cd /rule-base/corleone/compiled-resources\n",
    "! ls -la"
   ]
  },
  {
   "cell_type": "markdown",
   "metadata": {},
   "source": [
    "## Apply the compiled gazetteer to some inputs"
   ]
  },
  {
   "cell_type": "code",
   "execution_count": 23,
   "metadata": {},
   "outputs": [
    {
     "name": "stdout",
     "output_type": "stream",
     "text": [
      "/bin/sh: line 0: cd: /rule-based/corleone/scripts: No such file or directory\r\n"
     ]
    }
   ],
   "source": [
    "# go in the /scripts folder of corleone\n",
    "\n",
    "! cd /rule-based/corleone/scripts"
   ]
  },
  {
   "cell_type": "code",
   "execution_count": 24,
   "metadata": {},
   "outputs": [
    {
     "name": "stdout",
     "output_type": "stream",
     "text": [
      "/bin/sh: ./applyComp.sh: No such file or directory\r\n"
     ]
    }
   ],
   "source": [
    "# execute the 'apply component script' with the component alias\n",
    "# (basicGazetteer) and the component configuration file (located in the resource folder)\n",
    "\n",
    "! ./applyComp.sh basicGazetteer ../resources/person_name_gaz_application.cfg"
   ]
  },
  {
   "cell_type": "code",
   "execution_count": 25,
   "metadata": {},
   "outputs": [
    {
     "name": "stdout",
     "output_type": "stream",
     "text": [
      "/bin/sh: line 0: cd: /rule-base/corleone/compiled-resources: No such file or directory\r\n"
     ]
    }
   ],
   "source": [
    "# go in the experiment folder and check the output\n",
    "\n",
    "! cd /rule-base/corleone/compiled-resources"
   ]
  },
  {
   "cell_type": "markdown",
   "metadata": {},
   "source": [
    "## Iterate !\n",
    "\n",
    "Now that you did the first edit-compiling-applying cycle, you can go back to the entry file and add more things if you want. The information you enter will be used by the grammar rules that you will develop next."
   ]
  },
  {
   "cell_type": "code",
   "execution_count": null,
   "metadata": {},
   "outputs": [],
   "source": []
  }
 ],
 "metadata": {
  "kernelspec": {
   "display_name": "Python 3",
   "language": "python",
   "name": "python3"
  },
  "language_info": {
   "codemirror_mode": {
    "name": "ipython",
    "version": 3
   },
   "file_extension": ".py",
   "mimetype": "text/x-python",
   "name": "python",
   "nbconvert_exporter": "python",
   "pygments_lexer": "ipython3",
   "version": "3.6.8"
  },
  "toc": {
   "base_numbering": 1,
   "nav_menu": {},
   "number_sections": true,
   "sideBar": true,
   "skip_h1_title": false,
   "title_cell": "Table of Contents",
   "title_sidebar": "Contents",
   "toc_cell": false,
   "toc_position": {},
   "toc_section_display": true,
   "toc_window_display": true
  }
 },
 "nbformat": 4,
 "nbformat_minor": 2
}
