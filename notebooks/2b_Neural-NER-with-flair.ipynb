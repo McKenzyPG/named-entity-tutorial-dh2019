{
 "cells": [
  {
   "cell_type": "markdown",
   "metadata": {},
   "source": [
    "# Neural NER with flair\n",
    "In this hands-on, we use https://github.com/zalandoresearch/flair, a state-of-the-art framework for NLP sequence labeling tasks with excellent quality\n",
    "Their site contains several tutorials that show how to train your own models with your own data.\n",
    "However, this requires GPUs and several hours of training. It is not feasible on this machine.\n"
   ]
  },
  {
   "cell_type": "markdown",
   "metadata": {},
   "source": [
    "## Using a standard flair models for English\n",
    "You can play with a few sentences. The model is trained on CONLL 2003 data. For details, see [Documentation](https://github.com/zalandoresearch/flair/blob/master/resources/docs/TUTORIAL_2_TAGGING.md#list-of-pre-trained-sequence-tagger-models)"
   ]
  },
  {
   "cell_type": "code",
   "execution_count": null,
   "metadata": {},
   "outputs": [],
   "source": [
    "from flair.data import Sentence\n",
    "from flair.models import SequenceTagger\n",
    "\n",
    "# make a sentence\n",
    "sentence = Sentence('I love Utrecht.', use_tokenizer=True)\n",
    "\n",
    "# load the NER tagger\n",
    "tagger = SequenceTagger.load('ner')"
   ]
  },
  {
   "cell_type": "code",
   "execution_count": null,
   "metadata": {},
   "outputs": [],
   "source": [
    "# run NER over sentence\n",
    "tagger.predict(sentence)\n",
    "\n",
    "# iterate over entities and print\n",
    "for entity in sentence.get_spans('ner'):\n",
    "    print(entity)"
   ]
  },
  {
   "cell_type": "markdown",
   "metadata": {},
   "source": [
    "Show detailed information"
   ]
  },
  {
   "cell_type": "code",
   "execution_count": null,
   "metadata": {},
   "outputs": [],
   "source": [
    "print(sentence.to_dict(tag_type='ner'))"
   ]
  },
  {
   "cell_type": "markdown",
   "metadata": {},
   "source": [
    "### Contextualized embeddings at work...\n",
    "Playing with ambiguous words"
   ]
  },
  {
   "cell_type": "code",
   "execution_count": null,
   "metadata": {},
   "outputs": [],
   "source": [
    "sentence = Sentence('Washington went to Washington .')\n",
    "tagger.predict(sentence)\n",
    "print(sentence.to_dict(tag_type='ner'))"
   ]
  },
  {
   "cell_type": "markdown",
   "metadata": {},
   "source": [
    "## Applying a purely character-based NER model trained on French QUAERO corpus\n",
    "We trained a purely character-based NER model using the QUAERO corpus.\n",
    "The underlying character language model was trained on Swiss newspaper texts from the 19th century and on French Wikipedia.\n",
    "Download the model (250MB) and a few scripts for running und testing it."
   ]
  },
  {
   "cell_type": "code",
   "execution_count": null,
   "metadata": {},
   "outputs": [],
   "source": [
    "! git clone https://gitlab.ifi.uzh.ch/siclemat/dh2019-ner-tutorial-flair-quaero-material.git ~/flair-quaero"
   ]
  },
  {
   "cell_type": "code",
   "execution_count": null,
   "metadata": {},
   "outputs": [],
   "source": [
    "%cd ~/flair-quaero"
   ]
  },
  {
   "cell_type": "markdown",
   "metadata": {},
   "source": [
    "Let's look at some real newspaper data from the 19th century"
   ]
  },
  {
   "cell_type": "code",
   "execution_count": null,
   "metadata": {
    "scrolled": true
   },
   "outputs": [],
   "source": [
    "!head -n 20 data.d/test_short.txt"
   ]
  },
  {
   "cell_type": "markdown",
   "metadata": {},
   "source": [
    "Tagging a verticalized file with reference annotations for evaluation. \n",
    "Output format:\n",
    " 1. Token\n",
    " 2. Gold NER IOB tag\n",
    " 3. Computed NER IOB tag\n",
    " 4. Probability/confidence of computed IOB tag"
   ]
  },
  {
   "cell_type": "code",
   "execution_count": null,
   "metadata": {
    "scrolled": true
   },
   "outputs": [],
   "source": [
    "! python lib/flair_ner_tagger.py \\\n",
    "  --model resources.d/taggers/ner/pressfr-wikifr/raw-stringemb-crf/best-model.pt \\\n",
    "  data.d/test_short.txt"
   ]
  },
  {
   "cell_type": "markdown",
   "metadata": {},
   "source": [
    "Save the relevant columns for evaluation in a file."
   ]
  },
  {
   "cell_type": "code",
   "execution_count": null,
   "metadata": {
    "code_folding": []
   },
   "outputs": [],
   "source": [
    "! python lib/flair_ner_tagger.py \\\n",
    "  --model resources.d/taggers/ner/pressfr-wikifr/raw-stringemb-crf/best-model.pt \\\n",
    "  data.d/test_short.txt |cut -d \" \" -f 1,2,3 > test_short_ner_tagged.txt"
   ]
  },
  {
   "cell_type": "code",
   "execution_count": null,
   "metadata": {},
   "outputs": [],
   "source": [
    "! head test_short_ner_tagged.txt"
   ]
  },
  {
   "cell_type": "code",
   "execution_count": null,
   "metadata": {},
   "outputs": [],
   "source": [
    "! perl lib/conlleval.pl < test_short_ner_tagged.txt"
   ]
  },
  {
   "cell_type": "markdown",
   "metadata": {},
   "source": [
    "### Possible hands-on\n",
    "Modify the input file `data.d/test_short.txt` via Jupyter text editor (e.g. add or remove OCR noise) and look at the effect\n"
   ]
  },
  {
   "cell_type": "markdown",
   "metadata": {},
   "source": [
    "## Using the French Quaero model on historical Swiss newspaper texts\n",
    "Let's test the model trained on French newspapers on some historical Swiss newspapers"
   ]
  },
  {
   "cell_type": "code",
   "execution_count": null,
   "metadata": {},
   "outputs": [],
   "source": [
    "%cd ~/flair-quaero\n",
    "french_tagger = SequenceTagger.load('resources.d/taggers/ner/pressfr-wikifr/raw-stringemb-crf/best-model.pt')"
   ]
  },
  {
   "cell_type": "code",
   "execution_count": null,
   "metadata": {},
   "outputs": [],
   "source": [
    "! cat ~/datasets/impresso/raw/GDL-1848-07-11-a-i0001.txt"
   ]
  },
  {
   "cell_type": "code",
   "execution_count": null,
   "metadata": {},
   "outputs": [],
   "source": [
    "sentence = Sentence('CONFÉDÉRATION SUISSE. DIÈTE FÉDÉRALE .. Séance du 6 juillet.', use_tokenizer=True)"
   ]
  },
  {
   "cell_type": "code",
   "execution_count": null,
   "metadata": {},
   "outputs": [],
   "source": [
    "french_tagger.predict(sentence)"
   ]
  },
  {
   "cell_type": "code",
   "execution_count": null,
   "metadata": {},
   "outputs": [],
   "source": [
    "print(sentence.to_dict(tag_type='ner'))"
   ]
  },
  {
   "cell_type": "markdown",
   "metadata": {},
   "source": [
    "## Next steps\n",
    "Work through more of the tutorial at https://github.com/zalandoresearch/flair/blob/master/resources/docs/TUTORIAL_1_BASICS.md"
   ]
  },
  {
   "cell_type": "code",
   "execution_count": null,
   "metadata": {},
   "outputs": [],
   "source": []
  }
 ],
 "metadata": {
  "kernelspec": {
   "display_name": "Python 3",
   "language": "python",
   "name": "python3"
  },
  "language_info": {
   "codemirror_mode": {
    "name": "ipython",
    "version": 3
   },
   "file_extension": ".py",
   "mimetype": "text/x-python",
   "name": "python",
   "nbconvert_exporter": "python",
   "pygments_lexer": "ipython3",
   "version": "3.7.3"
  },
  "toc": {
   "base_numbering": 1,
   "nav_menu": {},
   "number_sections": true,
   "sideBar": true,
   "skip_h1_title": false,
   "title_cell": "Table of Contents",
   "title_sidebar": "Contents",
   "toc_cell": false,
   "toc_position": {},
   "toc_section_display": true,
   "toc_window_display": false
  }
 },
 "nbformat": 4,
 "nbformat_minor": 2
}
