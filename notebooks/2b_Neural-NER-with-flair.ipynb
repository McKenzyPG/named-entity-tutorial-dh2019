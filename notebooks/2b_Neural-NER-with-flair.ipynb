{
 "cells": [
  {
   "cell_type": "markdown",
   "metadata": {},
   "source": [
    "# Neural NER with flair\n",
    "In this hands-on, we use https://github.com/zalandoresearch/flair, a state-of-the-art framework for NLP sequence labeling tasks with excellent quality\n",
    "Their site contains several tutorials that show how to train your own models with your own data.\n",
    "However, this requires GPUs and several hours of training. It is not feasible on this machine.\n"
   ]
  },
  {
   "cell_type": "markdown",
   "metadata": {},
   "source": [
    "## Using a standard flair models for English\n",
    "You can play with a few sentences. The model is trained on CONLL 2003 data. For details, see [Documentation](https://github.com/zalandoresearch/flair/blob/master/resources/docs/TUTORIAL_2_TAGGING.md#list-of-pre-trained-sequence-tagger-models)"
   ]
  },
  {
   "cell_type": "code",
   "execution_count": 1,
   "metadata": {},
   "outputs": [
    {
     "name": "stdout",
     "output_type": "stream",
     "text": [
      "2019-07-08 14:58:51,593 loading file /home/jovyan/.flair/models/en-ner-conll03-v0.4.pt\n"
     ]
    }
   ],
   "source": [
    "from flair.data import Sentence\n",
    "from flair.models import SequenceTagger\n",
    "\n",
    "# make a sentence\n",
    "sentence = Sentence('I love Utrecht.', use_tokenizer=True)\n",
    "\n",
    "# load the NER tagger\n",
    "tagger = SequenceTagger.load('ner')"
   ]
  },
  {
   "cell_type": "code",
   "execution_count": 2,
   "metadata": {},
   "outputs": [
    {
     "name": "stdout",
     "output_type": "stream",
     "text": [
      "ORG-span [3]: \"Utrecht\"\n"
     ]
    }
   ],
   "source": [
    "# run NER over sentence\n",
    "tagger.predict(sentence)\n",
    "\n",
    "# iterate over entities and print\n",
    "for entity in sentence.get_spans('ner'):\n",
    "    print(entity)"
   ]
  },
  {
   "cell_type": "markdown",
   "metadata": {},
   "source": [
    "Show detailed information"
   ]
  },
  {
   "cell_type": "code",
   "execution_count": 3,
   "metadata": {},
   "outputs": [
    {
     "name": "stdout",
     "output_type": "stream",
     "text": [
      "{'text': 'I love Utrecht.', 'labels': [], 'entities': [{'text': 'Utrecht', 'start_pos': 7, 'end_pos': 14, 'type': 'ORG', 'confidence': 0.9657689332962036}]}\n"
     ]
    }
   ],
   "source": [
    "print(sentence.to_dict(tag_type='ner'))"
   ]
  },
  {
   "cell_type": "markdown",
   "metadata": {},
   "source": [
    "### Contextualized embeddings at work...\n",
    "Playing with ambiguous words"
   ]
  },
  {
   "cell_type": "code",
   "execution_count": 4,
   "metadata": {},
   "outputs": [
    {
     "name": "stdout",
     "output_type": "stream",
     "text": [
      "{'text': 'Washington went to Washington .', 'labels': [], 'entities': [{'text': 'Washington', 'start_pos': 0, 'end_pos': 10, 'type': 'PER', 'confidence': 0.982752799987793}, {'text': 'Washington', 'start_pos': 19, 'end_pos': 29, 'type': 'LOC', 'confidence': 0.9996899366378784}]}\n"
     ]
    }
   ],
   "source": [
    "sentence = Sentence('Washington went to Washington .')\n",
    "tagger.predict(sentence)\n",
    "print(sentence.to_dict(tag_type='ner'))"
   ]
  },
  {
   "cell_type": "markdown",
   "metadata": {},
   "source": [
    "## Applying a purely character-based NER model trained on French QUAERO corpus\n",
    "We trained a purely character-based NER model using the QUAERO corpus.\n",
    "The underlying character language model was trained on Swiss newspaper texts from the 19th century and on French Wikipedia.\n",
    "Download the model (250MB) and a few scripts for running und testing it."
   ]
  },
  {
   "cell_type": "code",
   "execution_count": 5,
   "metadata": {},
   "outputs": [
    {
     "name": "stdout",
     "output_type": "stream",
     "text": [
      "fatal: destination path '/home/jovyan/flair-quaero' already exists and is not an empty directory.\r\n"
     ]
    }
   ],
   "source": [
    "! git clone https://gitlab.ifi.uzh.ch/siclemat/dh2019-ner-tutorial-flair-quaero-material.git ~/flair-quaero"
   ]
  },
  {
   "cell_type": "code",
   "execution_count": 6,
   "metadata": {},
   "outputs": [
    {
     "name": "stdout",
     "output_type": "stream",
     "text": [
      "/home/jovyan/flair-quaero\n"
     ]
    }
   ],
   "source": [
    "%cd ~/flair-quaero"
   ]
  },
  {
   "cell_type": "markdown",
   "metadata": {},
   "source": [
    "Let's look at some real newspaper data from the 19th century"
   ]
  },
  {
   "cell_type": "code",
   "execution_count": 7,
   "metadata": {
    "scrolled": true
   },
   "outputs": [
    {
     "name": "stdout",
     "output_type": "stream",
     "text": [
      "1\tPARIS\tPROPN\tB-loc.adm.town\r\n",
      "2\t,\tPUNCT\tO\r\n",
      "3\ti8\tADJ\tB-time.date.abs\r\n",
      "4\tDÉCEMBRE\tNOUN\tI-time.date.abs\r\n",
      "5\tBULLETIN\tVERB\tO\r\n",
      "6\tDU\tADP\tO\r\n",
      "7\tJOUR\tNOUN\tO\r\n",
      "\r\n",
      "1\tIl\tPRON\tO\r\n",
      "2\tn'\tADV\tO\r\n",
      "3\tétait\tAUX\tO\r\n",
      "4\tpas\tADV\tO\r\n",
      "5\tPiémontais\tPROPN\tO\r\n",
      "6\t,\tPUNCT\tO\r\n",
      "7\tmais\tCCONJ\tO\r\n",
      "8\tbon\tADJ\tO\r\n",
      "9\tMéridional\tNOUN\tO\r\n",
      "10\t,\tPUNCT\tO\r\n",
      "11\tdéCosènzà\tADP\tB-loc.adm.town\r\n",
      "12\tenCalabre\tNOUN\tB-loc.adm.reg\r\n"
     ]
    }
   ],
   "source": [
    "!head -n 20 data.d/test_short.txt"
   ]
  },
  {
   "cell_type": "markdown",
   "metadata": {},
   "source": [
    "Tagging a verticalized file with reference annotations for evaluation. \n",
    "Output format:\n",
    " 1. Token\n",
    " 2. Gold NER IOB tag\n",
    " 3. Computed NER IOB tag\n",
    " 4. Probability/confidence of computed IOB tag"
   ]
  },
  {
   "cell_type": "code",
   "execution_count": 8,
   "metadata": {
    "collapsed": true
   },
   "outputs": [
    {
     "name": "stdout",
     "output_type": "stream",
     "text": [
      "PARIS B-loc.adm.town B-loc.adm.town 0.9988251328468323\n",
      ", O O 0.969717264175415\n",
      "i8 B-time.date.abs B-time.date.abs 0.531688928604126\n",
      "DÉCEMBRE I-time.date.abs I-time.date.abs 0.9934332370758057\n",
      "BULLETIN O O 0.9681801199913025\n",
      "DU O O 0.9992507100105286\n",
      "JOUR O O 0.99275803565979\n",
      "\n",
      "Il O O 0.9986006617546082\n",
      "n' O O 0.9999463558197021\n",
      "était O O 0.999908447265625\n",
      "pas O O 0.9942612648010254\n",
      "Piémontais O B-pers.ind 0.5966131091117859\n",
      ", O O 0.9904968738555908\n",
      "mais O O 0.9991064667701721\n",
      "bon O O 0.9567022323608398\n",
      "Méridional O B-pers.ind 0.494706928730011\n",
      ", O O 0.9902147054672241\n",
      "déCosènzà B-loc.adm.town O 0.6310709118843079\n",
      "enCalabre B-loc.adm.reg O 0.24175947904586792\n",
      ". O O 0.999897837638855\n",
      "\n",
      "Temps B-prod.media B-prod.media 0.9141724109649658\n",
      "Berlin B-loc.adm.town B-loc.adm.town 0.9977395534515381\n",
      ", O O 0.9906547665596008\n",
      "25 B-time.date.abs B-time.date.abs 0.8832522630691528\n",
      "décembre I-time.date.abs I-time.date.abs 0.998478353023529\n",
      ", O O 0.9989118576049805\n",
      "8 B-time.hour.abs B-time.hour.abs 0.45328831672668457\n",
      "hwires I-time.hour.abs I-time.hour.abs 0.9303186535835266\n",
      ". O O 0.9998680353164673\n",
      "\n",
      "L' O O 0.9983312487602234\n",
      "un O O 0.829687774181366\n",
      ", O O 0.9950557947158813\n",
      "dit O O 0.9988920092582703\n",
      "-il O O 0.9918338060379028\n",
      "d' O O 0.9988172650337219\n",
      "une O O 0.9997413754463196\n",
      "voix O O 0.9927988052368164\n",
      "navrée O O 0.9896055459976196\n",
      ", O O 0.9999005794525146\n",
      "c' O O 0.9985952973365784\n",
      "est O O 0.9999252557754517\n",
      "notre O O 0.9990076422691345\n",
      "capitaine B-func.ind B-func.ind 0.9785792231559753\n",
      ", O O 0.9984049201011658\n",
      "notre O O 0.9987307190895081\n",
      "frère O O 0.8706227540969849\n",
      ", O O 0.9996635913848877\n",
      "o°an B-pers.ind B-pers.ind 0.948409378528595\n",
      "Chêne I-pers.ind I-pers.ind 0.2433261275291443\n",
      ". O O 0.9993502497673035\n",
      "\n",
      "Lo O O 0.8808055520057678\n",
      "Volksblalt B-prod.media B-prod.media 0.9201648235321045\n",
      "publie O O 0.9920068383216858\n",
      "un O O 0.9995362758636475\n",
      "appel O O 0.9969882369041443\n",
      "aux O O 0.9994626641273499\n",
      "socialistes B-pers.coll B-pers.coll 0.8911890387535095\n",
      "allemands I-pers.coll I-pers.coll 0.9717507362365723\n",
      ", O O 0.9316473007202148\n",
      "qui O O 0.9565457701683044\n",
      "sont O O 0.9998915195465088\n",
      "au O O 0.9995112419128418\n",
      "courant O O 0.9855540990829468\n",
      "des O O 0.9994252920150757\n",
      "affaires O O 0.9325565099716187\n",
      "rurales O O 0.6858152151107788\n",
      ", O O 0.9996892213821411\n",
      "pour O O 0.9983881711959839\n",
      "les O O 0.9998544454574585\n",
      "prier O O 0.9748508334159851\n",
      "de O O 0.9998685121536255\n",
      "lui O O 0.9999066591262817\n",
      "envoyer O O 0.9999204874038696\n",
      "des O O 0.9998812675476074\n",
      "renseignements O O 0.9969268441200256\n",
      ". O O 0.9999992847442627\n",
      "\n",
      "Le O O 0.9986398816108704\n",
      "monument O O 0.928482711315155\n",
      "national O O 0.7784008979797363\n",
      "que O O 0.9994856119155884\n",
      "l'on O O 0.999470055103302\n",
      "doit O O 0.9999485015869141\n",
      "élever O O 0.9984983205795288\n",
      "à O O 0.9963441491127014\n",
      "Jeanaa B-pers.ind B-loc.adm.town 0.6843478679656982\n",
      "d' I-pers.ind I-loc.adm.town 0.650849461555481\n",
      "Arc I-pers.ind I-loc.adm.town 0.8994189500808716\n",
      ", O O 0.9916674494743347\n",
      "à O O 0.9968007802963257\n",
      "Domrémy B-loc.adm.town B-loc.adm.town 0.9233399629592896\n",
      ", O O 0.9825794696807861\n",
      "est O O 0.9981677532196045\n",
      "confié O O 0.9997848868370056\n",
      "au O O 0.9999490976333618\n",
      "sculpteur O B-func.ind 0.9231476783752441\n",
      "Mercié O B-pers.ind 0.7658700346946716\n",
      ". O O 0.9998989105224609\n",
      "\n",
      "( O O 0.9984157085418701\n",
      "A O O 0.9858953356742859\n",
      "suim-e O O 0.9119957685470581\n",
      ". O O 0.9942272901535034\n",
      ") O O 0.9959186911582947\n",
      "RooxEb B-pers.ind O 0.593382716178894\n",
      "t*lCRAJ I-pers.ind O 0.8590461611747742\n",
      ". O O 0.9892699122428894\n",
      "\n",
      "Le O B-loc.adm.town 0.8760493397712708\n",
      "Caire B-loc.adm.town I-loc.adm.town 0.9823976159095764\n",
      ", O O 0.9941966533660889\n",
      "30 B-time.date.abs B-time.date.abs 0.8888900876045227\n",
      "décembre I-time.date.abs I-time.date.abs 0.9979386925697327\n",
      ". O O 0.9996922016143799\n",
      "\n",
      "UEçfijptian B-prod.media B-prod.media 0.6362216472625732\n",
      "Gazette I-prod.media I-prod.media 0.7405312657356262\n",
      "s' O O 0.9083663821220398\n",
      "étant O O 0.9985322952270508\n",
      "posée O O 0.9996352195739746\n",
      "comme O O 0.9996364116668701\n",
      "l' O O 0.9996873140335083\n",
      "interprète O O 0.722740650177002\n",
      "autorisé O O 0.6340922713279724\n",
      "du O O 0.9711271524429321\n",
      "gouvernement B-org.adm B-org.adm 0.7775593400001526\n",
      "égyptien I-org.adm I-org.adm 0.9604003429412842\n",
      "dans O O 0.9868071675300598\n",
      "un O O 0.9985352754592896\n",
      "article O O 0.9846308827400208\n",
      "violent O O 0.9900057911872864\n",
      "où O O 0.9997147917747498\n",
      "elle O O 0.9999499320983887\n",
      "attaque O O 0.9999302625656128\n",
      "le O O 0.9999092817306519\n",
      "régime O O 0.8595485687255859\n",
      "financier O O 0.7404817342758179\n",
      "et O O 0.999297022819519\n",
      "les O O 0.9999011754989624\n",
      "institutions O O 0.883020281791687\n",
      "internationales O O 0.4219782054424286\n",
      ", O O 0.9998231530189514\n",
      "les O O 0.9996370077133179\n",
      "commissaires B-func.coll B-func.coll 0.9579031467437744\n",
      "de I-func.coll I-func.coll 0.47764331102371216\n",
      "la I-func.coll I-func.coll 0.5181328654289246\n",
      "Dette I-func.coll I-func.coll 0.9488183259963989\n",
      ", O I-func.coll 0.9548702836036682\n",
      "français O I-func.coll 0.542329728603363\n",
      ", O I-func.coll 0.9277249574661255\n",
      "italien O I-func.coll 0.5273916721343994\n",
      ", O I-func.coll 0.9477018713951111\n",
      "russe O I-func.coll 0.42816439270973206\n",
      "et O I-func.coll 0.8569836616516113\n",
      "autrichien O I-func.coll 0.7820802330970764\n",
      ", O O 0.989648699760437\n",
      "ont O O 0.9985522627830505\n",
      "demandé O O 0.9986734390258789\n",
      ", O O 0.9998371601104736\n",
      "dans O O 0.9943669438362122\n",
      "une O O 0.9992045760154724\n",
      "lettre O O 0.9865232110023499\n",
      ", O O 0.9999209642410278\n",
      "au O O 0.9998446702957153\n",
      "gouvernement B-org.adm B-org.adm 0.8595519065856934\n",
      "égyptien I-org.adm I-org.adm 0.9885955452919006\n",
      ", O O 0.9970108270645142\n",
      "de O O 0.9996253252029419\n",
      "désavouer O O 0.9998600482940674\n",
      "cet O O 0.9989275336265564\n",
      "article O O 0.9132692217826843\n",
      ". O O 0.9999953508377075\n",
      "\n",
      "f&tvxps B-prod.media B-prod.media 0.8690290451049805\n",
      "\n"
     ]
    }
   ],
   "source": [
    "! python lib/flair_ner_tagger.py \\\n",
    "  --model resources.d/taggers/ner/pressfr-wikifr/raw-stringemb-crf/best-model.pt \\\n",
    "  data.d/test_short.txt"
   ]
  },
  {
   "cell_type": "markdown",
   "metadata": {},
   "source": [
    "Save the relevant columns for evaluation in a file."
   ]
  },
  {
   "cell_type": "code",
   "execution_count": 9,
   "metadata": {
    "code_folding": []
   },
   "outputs": [],
   "source": [
    "! python lib/flair_ner_tagger.py \\\n",
    "  --model resources.d/taggers/ner/pressfr-wikifr/raw-stringemb-crf/best-model.pt \\\n",
    "  data.d/test_short.txt |cut -d \" \" -f 1,2,3 > test_short_ner_tagged.txt"
   ]
  },
  {
   "cell_type": "code",
   "execution_count": 10,
   "metadata": {
    "collapsed": true
   },
   "outputs": [
    {
     "name": "stdout",
     "output_type": "stream",
     "text": [
      "PARIS B-loc.adm.town B-loc.adm.town\r\n",
      ", O O\r\n",
      "i8 B-time.date.abs B-time.date.abs\r\n",
      "DÉCEMBRE I-time.date.abs I-time.date.abs\r\n",
      "BULLETIN O O\r\n",
      "DU O O\r\n",
      "JOUR O O\r\n",
      "\r\n",
      "Il O O\r\n",
      "n' O O\r\n",
      "était O O\r\n",
      "pas O O\r\n",
      "Piémontais O B-pers.ind\r\n",
      ", O O\r\n",
      "mais O O\r\n",
      "bon O O\r\n",
      "Méridional O B-pers.ind\r\n",
      ", O O\r\n",
      "déCosènzà B-loc.adm.town O\r\n",
      "enCalabre B-loc.adm.reg O\r\n",
      ". O O\r\n",
      "\r\n",
      "Temps B-prod.media B-prod.media\r\n",
      "Berlin B-loc.adm.town B-loc.adm.town\r\n",
      ", O O\r\n",
      "25 B-time.date.abs B-time.date.abs\r\n",
      "décembre I-time.date.abs I-time.date.abs\r\n",
      ", O O\r\n",
      "8 B-time.hour.abs B-time.hour.abs\r\n",
      "hwires I-time.hour.abs I-time.hour.abs\r\n",
      ". O O\r\n",
      "\r\n",
      "L' O O\r\n",
      "un O O\r\n",
      ", O O\r\n",
      "dit O O\r\n",
      "-il O O\r\n",
      "d' O O\r\n",
      "une O O\r\n",
      "voix O O\r\n",
      "navrée O O\r\n",
      ", O O\r\n",
      "c' O O\r\n",
      "est O O\r\n",
      "notre O O\r\n",
      "capitaine B-func.ind B-func.ind\r\n",
      ", O O\r\n",
      "notre O O\r\n",
      "frère O O\r\n",
      ", O O\r\n",
      "o°an B-pers.ind B-pers.ind\r\n",
      "Chêne I-pers.ind I-pers.ind\r\n",
      ". O O\r\n",
      "\r\n",
      "Lo O O\r\n",
      "Volksblalt B-prod.media B-prod.media\r\n",
      "publie O O\r\n",
      "un O O\r\n",
      "appel O O\r\n",
      "aux O O\r\n",
      "socialistes B-pers.coll B-pers.coll\r\n",
      "allemands I-pers.coll I-pers.coll\r\n",
      ", O O\r\n",
      "qui O O\r\n",
      "sont O O\r\n",
      "au O O\r\n",
      "courant O O\r\n",
      "des O O\r\n",
      "affaires O O\r\n",
      "rurales O O\r\n",
      ", O O\r\n",
      "pour O O\r\n",
      "les O O\r\n",
      "prier O O\r\n",
      "de O O\r\n",
      "lui O O\r\n",
      "envoyer O O\r\n",
      "des O O\r\n",
      "renseignements O O\r\n",
      ". O O\r\n",
      "\r\n",
      "Le O O\r\n",
      "monument O O\r\n",
      "national O O\r\n",
      "que O O\r\n",
      "l'on O O\r\n",
      "doit O O\r\n",
      "élever O O\r\n",
      "à O O\r\n",
      "Jeanaa B-pers.ind B-loc.adm.town\r\n",
      "d' I-pers.ind I-loc.adm.town\r\n",
      "Arc I-pers.ind I-loc.adm.town\r\n",
      ", O O\r\n",
      "à O O\r\n",
      "Domrémy B-loc.adm.town B-loc.adm.town\r\n",
      ", O O\r\n",
      "est O O\r\n",
      "confié O O\r\n",
      "au O O\r\n",
      "sculpteur O B-func.ind\r\n"
     ]
    }
   ],
   "source": [
    "! head -n 100 test_short_ner_tagged.txt"
   ]
  },
  {
   "cell_type": "code",
   "execution_count": 11,
   "metadata": {},
   "outputs": [
    {
     "name": "stdout",
     "output_type": "stream",
     "text": [
      "processed 169 tokens with 22 phrases; found: 23 phrases; correct: 16.\r\n",
      "accuracy:  87.57%; precision:  69.57%; recall:  72.73%; FB1:  71.11\r\n",
      "        func.coll: precision:   0.00%; recall:   0.00%; FB1:   0.00  1\r\n",
      "         func.ind: precision:  50.00%; recall: 100.00%; FB1:  66.67  2\r\n",
      "      loc.adm.reg: precision:   0.00%; recall:   0.00%; FB1:   0.00  0\r\n",
      "     loc.adm.town: precision:  60.00%; recall:  60.00%; FB1:  60.00  5\r\n",
      "          org.adm: precision: 100.00%; recall: 100.00%; FB1: 100.00  2\r\n",
      "        pers.coll: precision: 100.00%; recall: 100.00%; FB1: 100.00  1\r\n",
      "         pers.ind: precision:  25.00%; recall:  33.33%; FB1:  28.57  4\r\n",
      "       prod.media: precision: 100.00%; recall: 100.00%; FB1: 100.00  4\r\n",
      "    time.date.abs: precision: 100.00%; recall: 100.00%; FB1: 100.00  3\r\n",
      "    time.hour.abs: precision: 100.00%; recall: 100.00%; FB1: 100.00  1\r\n"
     ]
    }
   ],
   "source": [
    "! perl lib/conlleval.pl < test_short_ner_tagged.txt"
   ]
  },
  {
   "cell_type": "markdown",
   "metadata": {},
   "source": [
    "### Possible hands-on\n",
    "Modify the input file `data.d/test_short.txt` via Jupyter text editor (e.g. add or remove OCR noise) and look at the effect\n"
   ]
  },
  {
   "cell_type": "markdown",
   "metadata": {},
   "source": [
    "## Testing the French Quaero model on historical Swiss newspaper texts\n",
    "Let's test the model trained on French newspapers on some historical Swiss newspapers"
   ]
  },
  {
   "cell_type": "code",
   "execution_count": 12,
   "metadata": {},
   "outputs": [
    {
     "name": "stdout",
     "output_type": "stream",
     "text": [
      "/home/jovyan/flair-quaero\n",
      "2019-07-08 15:00:16,484 loading file resources.d/taggers/ner/pressfr-wikifr/raw-stringemb-crf/best-model.pt\n"
     ]
    }
   ],
   "source": [
    "%cd ~/flair-quaero\n",
    "french_tagger = SequenceTagger.load('resources.d/taggers/ner/pressfr-wikifr/raw-stringemb-crf/best-model.pt')"
   ]
  },
  {
   "cell_type": "code",
   "execution_count": 13,
   "metadata": {},
   "outputs": [
    {
     "name": "stdout",
     "output_type": "stream",
     "text": [
      "CONFÉDÉRATION SUISSE. DIÈTE FÉDÉRALE .. Séance du 6 juillet. Kt, (i, t de situation du personnel et du matériel de l'armée Le conseil fédéral de la guerre fait connaître, dans un rapport en date du 10 mai, ce qui manque soit 'dans le personnel, soit dans le matériel de l'année fédérale. Chaque Etat donne des explications sur les objets qui lui manquent. — Genève se trouve embarrassé de sa compagnie de cavalerie, car on n'aime pas monter à cheval dans le canton de Genève. Le député voudrait inviter l'assemblée à échanger celte compagnie de cavalerie contre une compagnie de carabiniers et deux pièces du contingent. Il est décidé que les Etats en relard seront invités à se procurer, dans le plus bref délai possible, les objets qui leur manquent pour compléter leurs conlingens respectifs. Ensuite de l'arrêté de la Diète, le conseil fédéral de la guerre a ordonné une nouvelle inspection du contingent d'' Appenzell-inlérieur, mission qui a été confiée à M. le colonel fédéral Egloff. Quant aux réclamations que les Etals des Grisons et du Tessin ont élevées contre la surveillance de leurs conlingens, la Diète attend de la part du conseil fédéral de la guerre un rapport qui n'a pas encore paru. Fusées de guerre. — Le conseil de la guerre ne peut encore présenter un rapport sur cet objet, attendu que M. Pictet est retenu en Italie par les. éyénemens qui se passent dans ce pays. Quant aux frais nécessaires pour l'acquisition de' machines et d'oulds, on s'en occupera lors de la discussion du budget. Système à percussion. — Le Directoire estime qu'il est de son devoir d'inviter les cantons en retard à accélérer autant que possible la transformation prescrite des armes à silex. Celte invitation est votée à l'unanimité. Un aperçu du conseil de la guerre sur l'emploi des fonds qui lui ont été alloués pour l'introduction du système à percussion, est renvoyé a la cpinmissipn chargée d'exatnine. r les dépenses militaires. Grenades ditesSchrapuels (du nom de l'inventeur.) Le conseil de la guerre donne des explications sur la nécessité de faire des essais avec ce nouveau projectile. Il est décidé à l'unanimité qu'on continuera les essais. Quant au point financier, ou s'en occupera aussi lors de la discussion du budget. acquisition du matériel de guerre. — Cette affaire est renvoyée à la commission chargée d'examiner les dépenses militaires et elle sera traitée avec le budget. La gestion du conseil de la guerre pendant l'année 1847 a éléensuite approuvée à l'unanimité et des remerciemens lui sont votés pour l'activité qu'il a déployée et les sages mesures qu'il a prises pendant les malheureux événemens provoqués par le Sonderbund. La Diète s'occupera dans sa séance de lundi du remplacement de M. le colonel Ziiuuierli, qui n'est pas rééligible au conseil fédéral de la guerre. Sur la proposition de Vaud, on communiquera aux membres de l'assemblée une liste des officiers éligiblcs. Rapports territoriaux. — L'affaire est demeurée dans le môme étal en ce qui concerne la délimitation des frontières entre la Suisse et les Etats autrichiens le long du territoire du canton des Grisons. Les pleins-pouvoirs donnés à ce sujet au Directoire sont renouvelés avec invitation d'accélérer la solution de cette affaire. Le Directoire ne se trouve pas en mesure de communiquer un résultat positif quelconque au sujet de la rectification de la frontière à opérer entre l'Autriche et la Confédération le long du canton du Tessin. Les pleins-pouvoirs du Directoire sont également renouvelés. En ce qui concerne les difficultés territoriales entre la Confédération suisse et le grand duché de Baden le Ions du cajilon de Thurgovie, aucune conférence n'a pu encore avoir lieu entre les commissaires désignés départ et d'autre-il p. ourrail toutefois arriver qu'on ne tarde pas à s'entendre sur cette affaire. Renouvellement de pleins-pouvoirs au Directoire. L'Etat de Fribourg n'a pas encore fait la communication depuis longtemps annoncée, d'un second mémoire concernant les différends relatifs au lac de Moral. Le député de Fribourg fait observer que l'ancien gouvernement était trop absorbé dans ses préparatifs militaires, dans le but de résister à la Confédération pour qu'il songeât', à, s'occuper de la r. édacljqn de ce second mémoire. Maintenant que les circonstances ont changé, l'État de Fribourg, empressé de cultiver des relations d'amitié avec ses voisins, « emandeq _ ue celte affaire soit ajournée jusqu'à la Diète de 1849, parce que d'ici-là elle s'arrangera sans doute à l'amiable. Le député de Fatal est satisfait de cette déclaration, et il espère aussi que l'affaire s'arrangera à l'amiable. En présence de ces déclarations, la Dièle ne donne pas suite à celte affaire, et elle renvoie les deux Etats intéressés à s'entendre à l'amiable jusqu'à la Diète de 1849. Proposition de Genève tendant à la publication d'un bulletin en langue allemande et en langue française des délibérations la Dièle. Le dépulé de Genève motive la proposition de son Etat sur l'insuffisance des comptes-rendus publiés par la voie ordinaire. On sait en général ce qui se passe en Diète, mais on ne peut toujours peser les raisons pour et contre. La dépense qu'entraînerait cette publication aurait pour but d'instruire le peuple suisse sur les affaires fédérales et elle obvierait à l'inconvénient de voir défigurer les discours des députés. Si une publication, de celle nalure avait eu lieu jusqu'ici, on aurait évité bien des inconvéniens. Quelques députés estiment qu'il faut abandonner aux autorités fédérales futures le soin de publier leurs délibérations. Fribourg, au contraire, trouve qu'il y a une utilité incontestable à adopter la proposition de Genève. Dans le moment où la Confédération va. se reconstituer, il est important de donner la plus grande publicité possible aux débats et aux actes des autorités fédérales. De tous les cantons allemands, il n'y a que les députés de Râle et de Reme qui. appuient la proposition de Genève. Vaud, tout en l'appuyant quant au fond, demande qu'elle soit ajournée. En général, les cantons français appuient la proposition de publier un bulletin. Après le tour de délibération, Genève prend encore la pa role pour défendre la proposition. Le seul argument qu'on pourrait faire valoir contre celle proposition, c'est, dit-il, la question des frais. Mais il ne serait pas nécessaire, t-il, de reproduire textuellement tous les discours. Il suffirait de reproduire les pensées des orateurs, et deux personnes seraient à même de soigner celte publication. Il y aura d'ailleurs beaucoup à faire dans la Diète actuelle, soit que la constitution fédéralesoitacceptée, soitqu'ellesoit rejelée. Il y aura plusieurs décrets à rendre. Celte publication est donc indispensable, si ce n'est pour la session actuelle, du moins pour la session suivante. Le peuple suisse lient à avoir un compte-rendu aussi détaillé que possible de tout ce qui se passe dans le seiri de la Diète. A la volalion, la proposition de Genève ne réunit que les voix de Valais, Genève, Neucliâtel, Râle, Fribourg, Reme. Une proposition de Zurich, tendant à ne pas prendre pour le moment la proposition de Genève en considération, atten du que la Diète actuelle touche à sa fin, esl adoptée, par 12 Etats. La séance est levée à 1 heure. Séance du 7 juillet. Le dépulé de Genève propose à la veille de la reconstitu tion des pouvoirs fédéraux, d'opérer un nouveau recensement pour asseoir le chiffre de la représentation nationale et déterminer les contingens eu hommes. Zurich estime qu'aussi longtemps qu'on ne connaîtra pas le sort de la nouvelle constitution fédérale, il est surpeiflu de procéder à un nouveau recensement de la population. Par conséquent il propose que, pour le moment, la proposition de Genève ne soit pas prise en considération. —Elle n'est adoptée que par les députés de Genève, IS'euchûtel, Vaud, Râle-Campagne et Lueerne.. Garantie des constitutions cantonales. L'Etat de Zurich ne pourra garantir la constitution de Lucerne aussi longtemps qu'elle n'accordera l'exercice des droits politiques qu'aux citoyens professant la religion tholique-romaine. La tolérance est le principe de vie de la Confédération ; dès lors, Zurich ne peut garantir une constitution qui proclame l'inlolérance en matière religieuse. Les cantons primitifs n'ont trouvé dans la constitution eje Lueerne aucune disposition qui soit contraire au pacte de 1813 ; ils doivent donc la garantir. Glaris est peiné que celte constitution, qui est une œuvre des temps actuels, contienne des dispositions si opposées aux idées du siècle. Cependant, dans le but d'affermir le parti libéral dans le canton de Lucerue, il accordera la garantie, mais sous la condition expresse que, dans le cas où la constitution fédérale sera adoptée, Lueerne s'empressera de mettre sa constitution en harmonie avec la charte fédérale. Fribourg fait observer qu'il n'appartient pas à la Diète de prescrire à Lueerne les principes à suivre en matière religieuse. Elle doit se borner à examiner si la constitution de cet Etat renferme quelque chose de contraire, au pacte de 1813 Or, comme on reconnaît généralement que ce n'est pas le cas, on ne peut lui refuser la garantie fédérale. Les autres députa lions se prononcent à peu près. dans ce sens, et | out en exprimant leurs regrets de voir sanctionner au 19° siècle l'intolérance religieuse, elles ne font cependant aucune difficulté d'accorder la garantie fédérale à la consli- ; tulion de Lueerne, attendu qu'elle ne renferme rien de contraire au pacte actuel. A la fin du tour de délibération, il s'élève un petit incident provoqué par Zurich, qui a qualifié d'inconséquence les cantons qui ont refusé la garantie fédérale à la constitution du Valais et qui l'accordent maintenant à celle de Lucerne. Argovie et Vaud font observer qu'il y a une grande différence entre ces deux constitutions. Celle du Valais ihtérdiT sait le culte même domestique de la confession réformée, tandis que cette confession pratiqué librement son culte dans le chef-lieu du canton de Lueerne.\r\n"
     ]
    }
   ],
   "source": [
    "! cat ~/datasets/impresso/raw/GDL-1848-07-11-a-i0001.txt"
   ]
  },
  {
   "cell_type": "code",
   "execution_count": 14,
   "metadata": {},
   "outputs": [],
   "source": [
    "sentence = Sentence('CONFÉDÉRATION SUISSE. DIÈTE FÉDÉRALE .. Séance du 6 juillet.', use_tokenizer=True)"
   ]
  },
  {
   "cell_type": "code",
   "execution_count": 15,
   "metadata": {},
   "outputs": [
    {
     "data": {
      "text/plain": [
       "[Sentence: \"CONFÉDÉRATION SUISSE . DIÈTE FÉDÉRALE . . Séance du 6 juillet .\" - 12 Tokens]"
      ]
     },
     "execution_count": 15,
     "metadata": {},
     "output_type": "execute_result"
    }
   ],
   "source": [
    "french_tagger.predict(sentence)"
   ]
  },
  {
   "cell_type": "code",
   "execution_count": 16,
   "metadata": {},
   "outputs": [
    {
     "name": "stdout",
     "output_type": "stream",
     "text": [
      "{'text': 'CONFÉDÉRATION SUISSE. DIÈTE FÉDÉRALE .. Séance du 6 juillet.', 'labels': [], 'entities': [{'text': '6 juillet', 'start_pos': 50, 'end_pos': 59, 'type': 'time.date.abs', 'confidence': 0.7775298357009888}]}\n"
     ]
    }
   ],
   "source": [
    "print(sentence.to_dict(tag_type='ner'))"
   ]
  },
  {
   "cell_type": "markdown",
   "metadata": {},
   "source": [
    "## Applying the French Quaero model on impresso data"
   ]
  },
  {
   "cell_type": "code",
   "execution_count": 24,
   "metadata": {},
   "outputs": [],
   "source": [
    "import os\n",
    "import json\n",
    "import codecs\n",
    "import spacy\n",
    "from tqdm import tqdm"
   ]
  },
  {
   "cell_type": "code",
   "execution_count": 18,
   "metadata": {},
   "outputs": [],
   "source": [
    "nlp_fr = spacy.load(\"fr_core_news_sm\")"
   ]
  },
  {
   "cell_type": "code",
   "execution_count": 19,
   "metadata": {},
   "outputs": [],
   "source": [
    "base_dir = os.path.expanduser('~/datasets/impresso/raw/')\n",
    "flair_output_dir = os.path.expanduser('~/datasets/impresso/flair_output/')"
   ]
  },
  {
   "cell_type": "code",
   "execution_count": 21,
   "metadata": {},
   "outputs": [
    {
     "name": "stdout",
     "output_type": "stream",
     "text": [
      "/home/jovyan/datasets/impresso/raw/GDL-1898-08-02-a-i0008.txt\n"
     ]
    },
    {
     "name": "stderr",
     "output_type": "stream",
     "text": [
      " 10%|▉         | 13/132 [00:45<07:01,  3.54s/it]"
     ]
    }
   ],
   "source": [
    "flair_entities = []\n",
    "\n",
    "# for now let's process only French documents\n",
    "# from the impresso corpus\n",
    "french_files = [\n",
    "    file\n",
    "    for file in os.listdir(base_dir)\n",
    "    if \"NZZ\" not in file\n",
    "]\n",
    "\n",
    "for file in french_files[:1]:\n",
    "    \n",
    "    path = os.path.join(base_dir, file)\n",
    "    print(path)\n",
    "    \n",
    "    with codecs.open(path, 'r', 'utf-8') as infile:\n",
    "        text = infile.read()\n",
    "    \n",
    "    # we let spacy do some pre-processing \n",
    "    # like splitting the text into sentence\n",
    "    spacy_doc = nlp_fr(text)\n",
    "    stop_at = 10\n",
    "    \n",
    "    # iterate all sentences in the document\n",
    "    sentences = list(spacy_doc.sents)\n",
    "    for spacy_sentence in tqdm(sentences[:stop_at]):\n",
    "        \n",
    "        # if the sentence is very short (< 5 tokens)\n",
    "        # we skip it as it may be a wrongly split one\n",
    "        if len(spacy_sentence.text.split()) < 5:\n",
    "                continue\n",
    "\n",
    "        sentence = Sentence(spacy_sentence.text, use_tokenizer=True)\n",
    "        french_tagger.predict(sentence)\n",
    "        tagged_sentence = sentence.to_dict(tag_type='ner')\n",
    "        \n",
    "        # if the results do contain some entity mentions\n",
    "        # we stored them in a list\n",
    "        if tagged_sentence['entities']:\n",
    "            flair_entities.append(sentence.to_dict(tag_type='ner'))\n",
    "            \n",
    "    # let's write the output to \n",
    "    out_file_path = os.path.join(\n",
    "        flair_output_dir, file.replace('.txt', '.json')\n",
    "    )\n",
    "\n",
    "    with codecs.open(out_file_path, 'w', 'utf-8') as outfile:\n",
    "        json.dump(flair_entities, outfile)\n",
    "        print(f'Flair output written to {outfile}')"
   ]
  },
  {
   "cell_type": "markdown",
   "metadata": {},
   "source": [
    "## Next steps\n",
    "Work through more of the tutorial at https://github.com/zalandoresearch/flair/blob/master/resources/docs/TUTORIAL_1_BASICS.md"
   ]
  }
 ],
 "metadata": {
  "kernelspec": {
   "display_name": "Python 3",
   "language": "python",
   "name": "python3"
  },
  "language_info": {
   "codemirror_mode": {
    "name": "ipython",
    "version": 3
   },
   "file_extension": ".py",
   "mimetype": "text/x-python",
   "name": "python",
   "nbconvert_exporter": "python",
   "pygments_lexer": "ipython3",
   "version": "3.7.3"
  },
  "toc": {
   "base_numbering": 1,
   "nav_menu": {},
   "number_sections": true,
   "sideBar": true,
   "skip_h1_title": false,
   "title_cell": "Table of Contents",
   "title_sidebar": "Contents",
   "toc_cell": false,
   "toc_position": {
    "height": "calc(100% - 180px)",
    "left": "10px",
    "top": "150px",
    "width": "365px"
   },
   "toc_section_display": true,
   "toc_window_display": true
  }
 },
 "nbformat": 4,
 "nbformat_minor": 2
}
